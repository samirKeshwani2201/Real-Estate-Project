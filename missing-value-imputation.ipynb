{
 "cells": [
  {
   "cell_type": "code",
   "execution_count": 1,
   "metadata": {},
   "outputs": [],
   "source": [
    "import numpy as np \n",
    "import pandas as pd \n",
    "import matplotlib.pyplot as plt \n",
    "import seaborn as sns"
   ]
  },
  {
   "cell_type": "code",
   "execution_count": 2,
   "metadata": {},
   "outputs": [],
   "source": [
    "pd.set_option('display.max_columns',None)"
   ]
  },
  {
   "cell_type": "code",
   "execution_count": 3,
   "metadata": {},
   "outputs": [],
   "source": [
    "df=pd.read_csv(\"gurgaon_properties_outlier_treated.csv\")"
   ]
  },
  {
   "cell_type": "code",
   "execution_count": 4,
   "metadata": {},
   "outputs": [
    {
     "data": {
      "text/html": [
       "<div>\n",
       "<style scoped>\n",
       "    .dataframe tbody tr th:only-of-type {\n",
       "        vertical-align: middle;\n",
       "    }\n",
       "\n",
       "    .dataframe tbody tr th {\n",
       "        vertical-align: top;\n",
       "    }\n",
       "\n",
       "    .dataframe thead th {\n",
       "        text-align: right;\n",
       "    }\n",
       "</style>\n",
       "<table border=\"1\" class=\"dataframe\">\n",
       "  <thead>\n",
       "    <tr style=\"text-align: right;\">\n",
       "      <th></th>\n",
       "      <th>property_type</th>\n",
       "      <th>society</th>\n",
       "      <th>sector</th>\n",
       "      <th>price</th>\n",
       "      <th>price_per_sqft</th>\n",
       "      <th>area</th>\n",
       "      <th>areaWithType</th>\n",
       "      <th>bedRoom</th>\n",
       "      <th>bathroom</th>\n",
       "      <th>balcony</th>\n",
       "      <th>floorNum</th>\n",
       "      <th>facing</th>\n",
       "      <th>agePossession</th>\n",
       "      <th>super_built_up_area</th>\n",
       "      <th>built_up_area</th>\n",
       "      <th>carpet_area</th>\n",
       "      <th>servant room</th>\n",
       "      <th>study room</th>\n",
       "      <th>pooja room</th>\n",
       "      <th>store room</th>\n",
       "      <th>others</th>\n",
       "      <th>furnishing_type</th>\n",
       "      <th>luxury_score</th>\n",
       "      <th>area_room_ratio</th>\n",
       "    </tr>\n",
       "  </thead>\n",
       "  <tbody>\n",
       "    <tr>\n",
       "      <th>0</th>\n",
       "      <td>house</td>\n",
       "      <td>independent</td>\n",
       "      <td>sector 14</td>\n",
       "      <td>5.00</td>\n",
       "      <td>22222.0</td>\n",
       "      <td>2250.0</td>\n",
       "      <td>Plot area 250(209.03 sq.m.)</td>\n",
       "      <td>3.0</td>\n",
       "      <td>3.0</td>\n",
       "      <td>3</td>\n",
       "      <td>1.0</td>\n",
       "      <td>South</td>\n",
       "      <td>Moderately Old</td>\n",
       "      <td>NaN</td>\n",
       "      <td>2250.00</td>\n",
       "      <td>NaN</td>\n",
       "      <td>0.0</td>\n",
       "      <td>0.0</td>\n",
       "      <td>0.0</td>\n",
       "      <td>0.0</td>\n",
       "      <td>0.0</td>\n",
       "      <td>0.0</td>\n",
       "      <td>30.0</td>\n",
       "      <td>750.000000</td>\n",
       "    </tr>\n",
       "    <tr>\n",
       "      <th>1</th>\n",
       "      <td>flat</td>\n",
       "      <td>la vida by tata housing</td>\n",
       "      <td>sector 113</td>\n",
       "      <td>2.78</td>\n",
       "      <td>10335.0</td>\n",
       "      <td>2690.0</td>\n",
       "      <td>Super Built up area 2690(249.91 sq.m.)Built Up...</td>\n",
       "      <td>3.0</td>\n",
       "      <td>4.0</td>\n",
       "      <td>3+</td>\n",
       "      <td>5.0</td>\n",
       "      <td>North-East</td>\n",
       "      <td>Relatively New</td>\n",
       "      <td>2690.0</td>\n",
       "      <td>2350.00</td>\n",
       "      <td>2170.0</td>\n",
       "      <td>1.0</td>\n",
       "      <td>0.0</td>\n",
       "      <td>0.0</td>\n",
       "      <td>0.0</td>\n",
       "      <td>0.0</td>\n",
       "      <td>0.0</td>\n",
       "      <td>220.0</td>\n",
       "      <td>896.666667</td>\n",
       "    </tr>\n",
       "    <tr>\n",
       "      <th>2</th>\n",
       "      <td>house</td>\n",
       "      <td>dlf city plots phase 3</td>\n",
       "      <td>sector 24</td>\n",
       "      <td>1.44</td>\n",
       "      <td>2963.0</td>\n",
       "      <td>4860.0</td>\n",
       "      <td>Plot area 60(50.17 sq.m.)</td>\n",
       "      <td>4.0</td>\n",
       "      <td>2.0</td>\n",
       "      <td>2</td>\n",
       "      <td>1.0</td>\n",
       "      <td>NaN</td>\n",
       "      <td>Old Property</td>\n",
       "      <td>NaN</td>\n",
       "      <td>540.00</td>\n",
       "      <td>NaN</td>\n",
       "      <td>0.0</td>\n",
       "      <td>0.0</td>\n",
       "      <td>0.0</td>\n",
       "      <td>0.0</td>\n",
       "      <td>0.0</td>\n",
       "      <td>0.0</td>\n",
       "      <td>8.0</td>\n",
       "      <td>1215.000000</td>\n",
       "    </tr>\n",
       "    <tr>\n",
       "      <th>3</th>\n",
       "      <td>house</td>\n",
       "      <td>independent</td>\n",
       "      <td>sector 4</td>\n",
       "      <td>0.65</td>\n",
       "      <td>10317.0</td>\n",
       "      <td>630.0</td>\n",
       "      <td>Plot area 70(6.5 sq.m.)</td>\n",
       "      <td>1.0</td>\n",
       "      <td>1.0</td>\n",
       "      <td>1</td>\n",
       "      <td>1.0</td>\n",
       "      <td>South-East</td>\n",
       "      <td>Moderately Old</td>\n",
       "      <td>NaN</td>\n",
       "      <td>70.00</td>\n",
       "      <td>NaN</td>\n",
       "      <td>0.0</td>\n",
       "      <td>0.0</td>\n",
       "      <td>0.0</td>\n",
       "      <td>0.0</td>\n",
       "      <td>1.0</td>\n",
       "      <td>0.0</td>\n",
       "      <td>21.0</td>\n",
       "      <td>630.000000</td>\n",
       "    </tr>\n",
       "    <tr>\n",
       "      <th>4</th>\n",
       "      <td>flat</td>\n",
       "      <td>experion windchants</td>\n",
       "      <td>sector 112</td>\n",
       "      <td>3.29</td>\n",
       "      <td>11742.0</td>\n",
       "      <td>2802.0</td>\n",
       "      <td>Super Built up area 2802(260.31 sq.m.)Built Up...</td>\n",
       "      <td>3.0</td>\n",
       "      <td>3.0</td>\n",
       "      <td>3+</td>\n",
       "      <td>2.0</td>\n",
       "      <td>South</td>\n",
       "      <td>Relatively New</td>\n",
       "      <td>2802.0</td>\n",
       "      <td>2225.56</td>\n",
       "      <td>NaN</td>\n",
       "      <td>1.0</td>\n",
       "      <td>0.0</td>\n",
       "      <td>0.0</td>\n",
       "      <td>0.0</td>\n",
       "      <td>0.0</td>\n",
       "      <td>2.0</td>\n",
       "      <td>192.0</td>\n",
       "      <td>934.000000</td>\n",
       "    </tr>\n",
       "  </tbody>\n",
       "</table>\n",
       "</div>"
      ],
      "text/plain": [
       "  property_type                  society      sector  price  price_per_sqft  \\\n",
       "0         house              independent   sector 14   5.00         22222.0   \n",
       "1          flat  la vida by tata housing  sector 113   2.78         10335.0   \n",
       "2         house   dlf city plots phase 3   sector 24   1.44          2963.0   \n",
       "3         house              independent    sector 4   0.65         10317.0   \n",
       "4          flat      experion windchants  sector 112   3.29         11742.0   \n",
       "\n",
       "     area                                       areaWithType  bedRoom  \\\n",
       "0  2250.0                        Plot area 250(209.03 sq.m.)      3.0   \n",
       "1  2690.0  Super Built up area 2690(249.91 sq.m.)Built Up...      3.0   \n",
       "2  4860.0                          Plot area 60(50.17 sq.m.)      4.0   \n",
       "3   630.0                            Plot area 70(6.5 sq.m.)      1.0   \n",
       "4  2802.0  Super Built up area 2802(260.31 sq.m.)Built Up...      3.0   \n",
       "\n",
       "   bathroom balcony  floorNum      facing   agePossession  \\\n",
       "0       3.0       3       1.0       South  Moderately Old   \n",
       "1       4.0      3+       5.0  North-East  Relatively New   \n",
       "2       2.0       2       1.0         NaN    Old Property   \n",
       "3       1.0       1       1.0  South-East  Moderately Old   \n",
       "4       3.0      3+       2.0       South  Relatively New   \n",
       "\n",
       "   super_built_up_area  built_up_area  carpet_area  servant room  study room  \\\n",
       "0                  NaN        2250.00          NaN           0.0         0.0   \n",
       "1               2690.0        2350.00       2170.0           1.0         0.0   \n",
       "2                  NaN         540.00          NaN           0.0         0.0   \n",
       "3                  NaN          70.00          NaN           0.0         0.0   \n",
       "4               2802.0        2225.56          NaN           1.0         0.0   \n",
       "\n",
       "   pooja room  store room  others  furnishing_type  luxury_score  \\\n",
       "0         0.0         0.0     0.0              0.0          30.0   \n",
       "1         0.0         0.0     0.0              0.0         220.0   \n",
       "2         0.0         0.0     0.0              0.0           8.0   \n",
       "3         0.0         0.0     1.0              0.0          21.0   \n",
       "4         0.0         0.0     0.0              2.0         192.0   \n",
       "\n",
       "   area_room_ratio  \n",
       "0       750.000000  \n",
       "1       896.666667  \n",
       "2      1215.000000  \n",
       "3       630.000000  \n",
       "4       934.000000  "
      ]
     },
     "execution_count": 4,
     "metadata": {},
     "output_type": "execute_result"
    }
   ],
   "source": [
    "df.head()"
   ]
  },
  {
   "cell_type": "code",
   "execution_count": 5,
   "metadata": {},
   "outputs": [
    {
     "data": {
      "text/plain": [
       "property_type             0\n",
       "society                   1\n",
       "sector                    0\n",
       "price                     0\n",
       "price_per_sqft            0\n",
       "area                      0\n",
       "areaWithType              0\n",
       "bedRoom                   0\n",
       "bathroom                  0\n",
       "balcony                   0\n",
       "floorNum                 17\n",
       "facing                 1011\n",
       "agePossession             0\n",
       "super_built_up_area    1680\n",
       "built_up_area          1968\n",
       "carpet_area            1715\n",
       "servant room              0\n",
       "study room                0\n",
       "pooja room                0\n",
       "store room                0\n",
       "others                    0\n",
       "furnishing_type           0\n",
       "luxury_score              0\n",
       "area_room_ratio           0\n",
       "dtype: int64"
      ]
     },
     "execution_count": 5,
     "metadata": {},
     "output_type": "execute_result"
    }
   ],
   "source": [
    "df.isnull().sum()"
   ]
  },
  {
   "cell_type": "markdown",
   "metadata": {},
   "source": [
    "### built_up_area            "
   ]
  },
  {
   "cell_type": "code",
   "execution_count": 7,
   "metadata": {},
   "outputs": [
    {
     "data": {
      "text/plain": [
       "<Axes: xlabel='built_up_area', ylabel='super_built_up_area'>"
      ]
     },
     "execution_count": 7,
     "metadata": {},
     "output_type": "execute_result"
    },
    {
     "data": {
      "image/png": "[encoded data removed]",
      "text/plain": [
       "<Figure size 640x480 with 1 Axes>"
      ]
     },
     "metadata": {},
     "output_type": "display_data"
    }
   ],
   "source": [
    "sns.scatterplot(x=df['built_up_area'],y=df['super_built_up_area'])"
   ]
  },
  {
   "cell_type": "code",
   "execution_count": 8,
   "metadata": {},
   "outputs": [
    {
     "data": {
      "text/plain": [
       "<Axes: xlabel='built_up_area', ylabel='carpet_area'>"
      ]
     },
     "execution_count": 8,
     "metadata": {},
     "output_type": "execute_result"
    },
    {
     "data": {
      "image/png": "[encoded data removed]",
      "text/plain": [
       "<Figure size 640x480 with 1 Axes>"
      ]
     },
     "metadata": {},
     "output_type": "display_data"
    }
   ],
   "source": [
    "sns.scatterplot(x=df['built_up_area'],y=df['carpet_area'])"
   ]
  },
  {
   "cell_type": "code",
   "execution_count": 12,
   "metadata": {},
   "outputs": [
    {
     "data": {
      "text/plain": [
       "0       False\n",
       "1       False\n",
       "2       False\n",
       "3       False\n",
       "4       False\n",
       "        ...  \n",
       "3550    False\n",
       "3551    False\n",
       "3552    False\n",
       "3553    False\n",
       "3554    False\n",
       "Length: 3555, dtype: bool"
      ]
     },
     "execution_count": 12,
     "metadata": {},
     "output_type": "execute_result"
    }
   ],
   "source": [
    "((df['super_built_up_area'].isnull())&(df['built_up_area'].isnull())&(df['carpet_area'].isnull()))"
   ]
  },
  {
   "cell_type": "code",
   "execution_count": 15,
   "metadata": {},
   "outputs": [],
   "source": [
    "all_present_df=df[~((df['super_built_up_area'].isnull())|(df['built_up_area'].isnull())|(df['carpet_area'].isnull()))]"
   ]
  },
  {
   "cell_type": "code",
   "execution_count": 16,
   "metadata": {},
   "outputs": [
    {
     "data": {
      "text/plain": [
       "(531, 24)"
      ]
     },
     "execution_count": 16,
     "metadata": {},
     "output_type": "execute_result"
    }
   ],
   "source": [
    "all_present_df.shape"
   ]
  },
  {
   "cell_type": "code",
   "execution_count": 17,
   "metadata": {},
   "outputs": [],
   "source": [
    "super_to_built_up_ratio=(all_present_df['super_built_up_area']/all_present_df['built_up_area']).median()"
   ]
  },
  {
   "cell_type": "code",
   "execution_count": 18,
   "metadata": {},
   "outputs": [],
   "source": [
    "carpet_to_built_up_area=(all_present_df['carpet_area']/all_present_df['built_up_area']).median()"
   ]
  },
  {
   "cell_type": "code",
   "execution_count": 19,
   "metadata": {},
   "outputs": [
    {
     "name": "stdout",
     "output_type": "stream",
     "text": [
      "1.105263157894737 0.9\n"
     ]
    }
   ],
   "source": [
    "print(super_to_built_up_ratio,carpet_to_built_up_area)"
   ]
  },
  {
   "cell_type": "code",
   "execution_count": 20,
   "metadata": {},
   "outputs": [],
   "source": [
    "# both area present but built up null\n",
    "\n",
    "sbc_df= df[~(df['super_built_up_area'].isnull())&(df['built_up_area'].isnull())&~(df['carpet_area'].isnull())]"
   ]
  },
  {
   "cell_type": "code",
   "execution_count": 21,
   "metadata": {},
   "outputs": [
    {
     "data": {
      "text/html": [
       "<div>\n",
       "<style scoped>\n",
       "    .dataframe tbody tr th:only-of-type {\n",
       "        vertical-align: middle;\n",
       "    }\n",
       "\n",
       "    .dataframe tbody tr th {\n",
       "        vertical-align: top;\n",
       "    }\n",
       "\n",
       "    .dataframe thead th {\n",
       "        text-align: right;\n",
       "    }\n",
       "</style>\n",
       "<table border=\"1\" class=\"dataframe\">\n",
       "  <thead>\n",
       "    <tr style=\"text-align: right;\">\n",
       "      <th></th>\n",
       "      <th>property_type</th>\n",
       "      <th>society</th>\n",
       "      <th>sector</th>\n",
       "      <th>price</th>\n",
       "      <th>price_per_sqft</th>\n",
       "      <th>area</th>\n",
       "      <th>areaWithType</th>\n",
       "      <th>bedRoom</th>\n",
       "      <th>bathroom</th>\n",
       "      <th>balcony</th>\n",
       "      <th>floorNum</th>\n",
       "      <th>facing</th>\n",
       "      <th>agePossession</th>\n",
       "      <th>super_built_up_area</th>\n",
       "      <th>built_up_area</th>\n",
       "      <th>carpet_area</th>\n",
       "      <th>servant room</th>\n",
       "      <th>study room</th>\n",
       "      <th>pooja room</th>\n",
       "      <th>store room</th>\n",
       "      <th>others</th>\n",
       "      <th>furnishing_type</th>\n",
       "      <th>luxury_score</th>\n",
       "      <th>area_room_ratio</th>\n",
       "    </tr>\n",
       "  </thead>\n",
       "  <tbody>\n",
       "    <tr>\n",
       "      <th>22</th>\n",
       "      <td>flat</td>\n",
       "      <td>ireo victory valley</td>\n",
       "      <td>sector 67</td>\n",
       "      <td>2.95</td>\n",
       "      <td>12236.0</td>\n",
       "      <td>2411.0</td>\n",
       "      <td>Super Built up area 2411(223.99 sq.m.)Carpet a...</td>\n",
       "      <td>3.0</td>\n",
       "      <td>3.0</td>\n",
       "      <td>3</td>\n",
       "      <td>10.0</td>\n",
       "      <td>North-West</td>\n",
       "      <td>Relatively New</td>\n",
       "      <td>2411.0</td>\n",
       "      <td>NaN</td>\n",
       "      <td>1906.0</td>\n",
       "      <td>1.0</td>\n",
       "      <td>0.0</td>\n",
       "      <td>0.0</td>\n",
       "      <td>0.0</td>\n",
       "      <td>0.0</td>\n",
       "      <td>2.0</td>\n",
       "      <td>228.0</td>\n",
       "      <td>803.666667</td>\n",
       "    </tr>\n",
       "    <tr>\n",
       "      <th>29</th>\n",
       "      <td>flat</td>\n",
       "      <td>elan the presidential</td>\n",
       "      <td>sector 106</td>\n",
       "      <td>6.30</td>\n",
       "      <td>15385.0</td>\n",
       "      <td>4095.0</td>\n",
       "      <td>Super Built up area 4095(380.44 sq.m.)Carpet a...</td>\n",
       "      <td>5.0</td>\n",
       "      <td>6.0</td>\n",
       "      <td>3+</td>\n",
       "      <td>10.0</td>\n",
       "      <td>North-East</td>\n",
       "      <td>Under Construction</td>\n",
       "      <td>4095.0</td>\n",
       "      <td>NaN</td>\n",
       "      <td>3500.0</td>\n",
       "      <td>0.0</td>\n",
       "      <td>0.0</td>\n",
       "      <td>0.0</td>\n",
       "      <td>0.0</td>\n",
       "      <td>0.0</td>\n",
       "      <td>2.0</td>\n",
       "      <td>102.0</td>\n",
       "      <td>819.000000</td>\n",
       "    </tr>\n",
       "    <tr>\n",
       "      <th>33</th>\n",
       "      <td>flat</td>\n",
       "      <td>pivotal devaan</td>\n",
       "      <td>sector 84</td>\n",
       "      <td>0.35</td>\n",
       "      <td>7277.0</td>\n",
       "      <td>481.0</td>\n",
       "      <td>Super Built up area 583(54.16 sq.m.)Carpet are...</td>\n",
       "      <td>2.0</td>\n",
       "      <td>2.0</td>\n",
       "      <td>1</td>\n",
       "      <td>10.0</td>\n",
       "      <td>West</td>\n",
       "      <td>Relatively New</td>\n",
       "      <td>583.0</td>\n",
       "      <td>NaN</td>\n",
       "      <td>481.0</td>\n",
       "      <td>0.0</td>\n",
       "      <td>0.0</td>\n",
       "      <td>0.0</td>\n",
       "      <td>1.0</td>\n",
       "      <td>0.0</td>\n",
       "      <td>0.0</td>\n",
       "      <td>123.0</td>\n",
       "      <td>240.500000</td>\n",
       "    </tr>\n",
       "    <tr>\n",
       "      <th>35</th>\n",
       "      <td>flat</td>\n",
       "      <td>indiabulls centrum park</td>\n",
       "      <td>sector 103</td>\n",
       "      <td>2.14</td>\n",
       "      <td>7443.0</td>\n",
       "      <td>2875.0</td>\n",
       "      <td>Super Built up area 2875(267.1 sq.m.)Carpet ar...</td>\n",
       "      <td>4.0</td>\n",
       "      <td>6.0</td>\n",
       "      <td>3+</td>\n",
       "      <td>7.0</td>\n",
       "      <td>East</td>\n",
       "      <td>Relatively New</td>\n",
       "      <td>2875.0</td>\n",
       "      <td>NaN</td>\n",
       "      <td>2550.0</td>\n",
       "      <td>1.0</td>\n",
       "      <td>0.0</td>\n",
       "      <td>0.0</td>\n",
       "      <td>0.0</td>\n",
       "      <td>0.0</td>\n",
       "      <td>0.0</td>\n",
       "      <td>190.0</td>\n",
       "      <td>718.750000</td>\n",
       "    </tr>\n",
       "    <tr>\n",
       "      <th>40</th>\n",
       "      <td>flat</td>\n",
       "      <td>shree vardhman victoria</td>\n",
       "      <td>sector 70</td>\n",
       "      <td>1.63</td>\n",
       "      <td>8359.0</td>\n",
       "      <td>1950.0</td>\n",
       "      <td>Super Built up area 1950(181.16 sq.m.)Carpet a...</td>\n",
       "      <td>3.0</td>\n",
       "      <td>3.0</td>\n",
       "      <td>3</td>\n",
       "      <td>5.0</td>\n",
       "      <td>East</td>\n",
       "      <td>New Property</td>\n",
       "      <td>1950.0</td>\n",
       "      <td>NaN</td>\n",
       "      <td>1161.0</td>\n",
       "      <td>1.0</td>\n",
       "      <td>0.0</td>\n",
       "      <td>0.0</td>\n",
       "      <td>0.0</td>\n",
       "      <td>1.0</td>\n",
       "      <td>0.0</td>\n",
       "      <td>56.0</td>\n",
       "      <td>650.000000</td>\n",
       "    </tr>\n",
       "  </tbody>\n",
       "</table>\n",
       "</div>"
      ],
      "text/plain": [
       "   property_type                  society      sector  price  price_per_sqft  \\\n",
       "22          flat      ireo victory valley   sector 67   2.95         12236.0   \n",
       "29          flat    elan the presidential  sector 106   6.30         15385.0   \n",
       "33          flat           pivotal devaan   sector 84   0.35          7277.0   \n",
       "35          flat  indiabulls centrum park  sector 103   2.14          7443.0   \n",
       "40          flat  shree vardhman victoria   sector 70   1.63          8359.0   \n",
       "\n",
       "      area                                       areaWithType  bedRoom  \\\n",
       "22  2411.0  Super Built up area 2411(223.99 sq.m.)Carpet a...      3.0   \n",
       "29  4095.0  Super Built up area 4095(380.44 sq.m.)Carpet a...      5.0   \n",
       "33   481.0  Super Built up area 583(54.16 sq.m.)Carpet are...      2.0   \n",
       "35  2875.0  Super Built up area 2875(267.1 sq.m.)Carpet ar...      4.0   \n",
       "40  1950.0  Super Built up area 1950(181.16 sq.m.)Carpet a...      3.0   \n",
       "\n",
       "    bathroom balcony  floorNum      facing       agePossession  \\\n",
       "22       3.0       3      10.0  North-West      Relatively New   \n",
       "29       6.0      3+      10.0  North-East  Under Construction   \n",
       "33       2.0       1      10.0        West      Relatively New   \n",
       "35       6.0      3+       7.0        East      Relatively New   \n",
       "40       3.0       3       5.0        East        New Property   \n",
       "\n",
       "    super_built_up_area  built_up_area  carpet_area  servant room  study room  \\\n",
       "22               2411.0            NaN       1906.0           1.0         0.0   \n",
       "29               4095.0            NaN       3500.0           0.0         0.0   \n",
       "33                583.0            NaN        481.0           0.0         0.0   \n",
       "35               2875.0            NaN       2550.0           1.0         0.0   \n",
       "40               1950.0            NaN       1161.0           1.0         0.0   \n",
       "\n",
       "    pooja room  store room  others  furnishing_type  luxury_score  \\\n",
       "22         0.0         0.0     0.0              2.0         228.0   \n",
       "29         0.0         0.0     0.0              2.0         102.0   \n",
       "33         0.0         1.0     0.0              0.0         123.0   \n",
       "35         0.0         0.0     0.0              0.0         190.0   \n",
       "40         0.0         0.0     1.0              0.0          56.0   \n",
       "\n",
       "    area_room_ratio  \n",
       "22       803.666667  \n",
       "29       819.000000  \n",
       "33       240.500000  \n",
       "35       718.750000  \n",
       "40       650.000000  "
      ]
     },
     "execution_count": 21,
     "metadata": {},
     "output_type": "execute_result"
    }
   ],
   "source": [
    "sbc_df.head()"
   ]
  },
  {
   "cell_type": "code",
   "execution_count": 22,
   "metadata": {},
   "outputs": [
    {
     "data": {
      "text/plain": [
       "(421, 24)"
      ]
     },
     "execution_count": 22,
     "metadata": {},
     "output_type": "execute_result"
    }
   ],
   "source": [
    "sbc_df.shape"
   ]
  },
  {
   "cell_type": "code",
   "execution_count": 23,
   "metadata": {},
   "outputs": [
    {
     "name": "stderr",
     "output_type": "stream",
     "text": [
      "C:\\Users\\sk531\\AppData\\Local\\Temp\\ipykernel_30536\\1777072953.py:1: SettingWithCopyWarning: \n",
      "A value is trying to be set on a copy of a slice from a DataFrame\n",
      "\n",
      "See the caveats in the documentation: https://pandas.pydata.org/pandas-docs/stable/user_guide/indexing.html#returning-a-view-versus-a-copy\n",
      "  sbc_df['built_up_area'].fillna(round(((sbc_df['super_built_up_area'] /1.105263157894737)+ (sbc_df['carpet_area'] /0.9))/2),inplace=True)\n"
     ]
    }
   ],
   "source": [
    "sbc_df['built_up_area'].fillna(round(((sbc_df['super_built_up_area'] /1.105263157894737)+ (sbc_df['carpet_area'] /0.9))/2),inplace=True) "
   ]
  },
  {
   "cell_type": "code",
   "execution_count": 24,
   "metadata": {},
   "outputs": [],
   "source": [
    "df.update(sbc_df)"
   ]
  },
  {
   "cell_type": "code",
   "execution_count": 25,
   "metadata": {},
   "outputs": [
    {
     "data": {
      "text/plain": [
       "property_type             0\n",
       "society                   1\n",
       "sector                    0\n",
       "price                     0\n",
       "price_per_sqft            0\n",
       "area                      0\n",
       "areaWithType              0\n",
       "bedRoom                   0\n",
       "bathroom                  0\n",
       "balcony                   0\n",
       "floorNum                 17\n",
       "facing                 1011\n",
       "agePossession             0\n",
       "super_built_up_area    1680\n",
       "built_up_area          1547\n",
       "carpet_area            1715\n",
       "servant room              0\n",
       "study room                0\n",
       "pooja room                0\n",
       "store room                0\n",
       "others                    0\n",
       "furnishing_type           0\n",
       "luxury_score              0\n",
       "area_room_ratio           0\n",
       "dtype: int64"
      ]
     },
     "execution_count": 25,
     "metadata": {},
     "output_type": "execute_result"
    }
   ],
   "source": [
    "df.isnull().sum()"
   ]
  },
  {
   "cell_type": "code",
   "execution_count": 26,
   "metadata": {},
   "outputs": [],
   "source": [
    "# super_built not null and (c and builtup null)\n",
    "\n",
    "\n",
    "sb_df=df[~(df['super_built_up_area'].isnull())&(df['built_up_area'].isnull())& (df['carpet_area'].isnull())]"
   ]
  },
  {
   "cell_type": "code",
   "execution_count": 28,
   "metadata": {},
   "outputs": [
    {
     "data": {
      "text/plain": [
       "(875, 24)"
      ]
     },
     "execution_count": 28,
     "metadata": {},
     "output_type": "execute_result"
    }
   ],
   "source": [
    "sb_df.shape"
   ]
  },
  {
   "cell_type": "code",
   "execution_count": null,
   "metadata": {},
   "outputs": [],
   "source": []
  }
 ],
 "metadata": {
  "kernelspec": {
   "display_name": "base",
   "language": "python",
   "name": "python3"
  },
  "language_info": {
   "codemirror_mode": {
    "name": "ipython",
    "version": 3
   },
   "file_extension": ".py",
   "mimetype": "text/x-python",
   "name": "python",
   "nbconvert_exporter": "python",
   "pygments_lexer": "ipython3",
   "version": "3.10.9"
  }
 },
 "nbformat": 4,
 "nbformat_minor": 2
}
